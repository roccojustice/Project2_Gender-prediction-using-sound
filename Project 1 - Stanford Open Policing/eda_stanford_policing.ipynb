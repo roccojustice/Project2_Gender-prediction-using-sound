{
 "cells": [
  {
   "cell_type": "markdown",
   "metadata": {},
   "source": [
    "# EDA Stanford \n",
    "On a typical day in the United States, police officers make more than 50,000 traffic stops. Stanford's team is gathering, analyzing, and releasing records from millions of traffic stops by law enforcement agencies across the country. The goal is to help researchers, journalists, and policymakers investigate and improve interactions between police and the public."
   ]
  },
  {
   "cell_type": "markdown",
   "metadata": {},
   "source": [
    "## Data cleaning"
   ]
  },
  {
   "cell_type": "code",
   "execution_count": 222,
   "metadata": {},
   "outputs": [],
   "source": [
    "import pandas as pd"
   ]
  },
  {
   "cell_type": "code",
   "execution_count": 223,
   "metadata": {},
   "outputs": [
    {
     "name": "stderr",
     "output_type": "stream",
     "text": [
      "C:\\Users\\RoccoJustice\\AppData\\Local\\Temp\\ipykernel_10980\\479554742.py:1: DtypeWarning: Columns (6,17,30) have mixed types. Specify dtype option on import or set low_memory=False.\n",
      "  ri = pd.read_csv('ri_statewide_2020_04_01.csv')\n"
     ]
    },
    {
     "data": {
      "text/html": [
       "<div>\n",
       "<style scoped>\n",
       "    .dataframe tbody tr th:only-of-type {\n",
       "        vertical-align: middle;\n",
       "    }\n",
       "\n",
       "    .dataframe tbody tr th {\n",
       "        vertical-align: top;\n",
       "    }\n",
       "\n",
       "    .dataframe thead th {\n",
       "        text-align: right;\n",
       "    }\n",
       "</style>\n",
       "<table border=\"1\" class=\"dataframe\">\n",
       "  <thead>\n",
       "    <tr style=\"text-align: right;\">\n",
       "      <th></th>\n",
       "      <th>raw_row_number</th>\n",
       "      <th>date</th>\n",
       "      <th>time</th>\n",
       "      <th>zone</th>\n",
       "      <th>subject_race</th>\n",
       "      <th>subject_sex</th>\n",
       "      <th>department_id</th>\n",
       "      <th>type</th>\n",
       "      <th>arrest_made</th>\n",
       "      <th>citation_issued</th>\n",
       "      <th>...</th>\n",
       "      <th>reason_for_stop</th>\n",
       "      <th>vehicle_make</th>\n",
       "      <th>vehicle_model</th>\n",
       "      <th>raw_BasisForStop</th>\n",
       "      <th>raw_OperatorRace</th>\n",
       "      <th>raw_OperatorSex</th>\n",
       "      <th>raw_ResultOfStop</th>\n",
       "      <th>raw_SearchResultOne</th>\n",
       "      <th>raw_SearchResultTwo</th>\n",
       "      <th>raw_SearchResultThree</th>\n",
       "    </tr>\n",
       "  </thead>\n",
       "  <tbody>\n",
       "    <tr>\n",
       "      <th>0</th>\n",
       "      <td>1</td>\n",
       "      <td>11/22/2005</td>\n",
       "      <td>11:15:00</td>\n",
       "      <td>X3</td>\n",
       "      <td>white</td>\n",
       "      <td>male</td>\n",
       "      <td>200</td>\n",
       "      <td>vehicular</td>\n",
       "      <td>False</td>\n",
       "      <td>True</td>\n",
       "      <td>...</td>\n",
       "      <td>Speeding</td>\n",
       "      <td>NaN</td>\n",
       "      <td>NaN</td>\n",
       "      <td>SP</td>\n",
       "      <td>W</td>\n",
       "      <td>M</td>\n",
       "      <td>M</td>\n",
       "      <td>NaN</td>\n",
       "      <td>NaN</td>\n",
       "      <td>NaN</td>\n",
       "    </tr>\n",
       "    <tr>\n",
       "      <th>1</th>\n",
       "      <td>2</td>\n",
       "      <td>10/1/2005</td>\n",
       "      <td>12:20:00</td>\n",
       "      <td>X3</td>\n",
       "      <td>white</td>\n",
       "      <td>male</td>\n",
       "      <td>200</td>\n",
       "      <td>vehicular</td>\n",
       "      <td>False</td>\n",
       "      <td>True</td>\n",
       "      <td>...</td>\n",
       "      <td>Speeding</td>\n",
       "      <td>NaN</td>\n",
       "      <td>NaN</td>\n",
       "      <td>SP</td>\n",
       "      <td>W</td>\n",
       "      <td>M</td>\n",
       "      <td>M</td>\n",
       "      <td>NaN</td>\n",
       "      <td>NaN</td>\n",
       "      <td>NaN</td>\n",
       "    </tr>\n",
       "    <tr>\n",
       "      <th>2</th>\n",
       "      <td>3</td>\n",
       "      <td>10/1/2005</td>\n",
       "      <td>12:30:00</td>\n",
       "      <td>X3</td>\n",
       "      <td>white</td>\n",
       "      <td>female</td>\n",
       "      <td>200</td>\n",
       "      <td>vehicular</td>\n",
       "      <td>False</td>\n",
       "      <td>True</td>\n",
       "      <td>...</td>\n",
       "      <td>Speeding</td>\n",
       "      <td>NaN</td>\n",
       "      <td>NaN</td>\n",
       "      <td>SP</td>\n",
       "      <td>W</td>\n",
       "      <td>F</td>\n",
       "      <td>M</td>\n",
       "      <td>NaN</td>\n",
       "      <td>NaN</td>\n",
       "      <td>NaN</td>\n",
       "    </tr>\n",
       "    <tr>\n",
       "      <th>3</th>\n",
       "      <td>4</td>\n",
       "      <td>10/1/2005</td>\n",
       "      <td>12:50:00</td>\n",
       "      <td>X3</td>\n",
       "      <td>white</td>\n",
       "      <td>male</td>\n",
       "      <td>200</td>\n",
       "      <td>vehicular</td>\n",
       "      <td>False</td>\n",
       "      <td>True</td>\n",
       "      <td>...</td>\n",
       "      <td>Speeding</td>\n",
       "      <td>NaN</td>\n",
       "      <td>NaN</td>\n",
       "      <td>SP</td>\n",
       "      <td>W</td>\n",
       "      <td>M</td>\n",
       "      <td>M</td>\n",
       "      <td>NaN</td>\n",
       "      <td>NaN</td>\n",
       "      <td>NaN</td>\n",
       "    </tr>\n",
       "    <tr>\n",
       "      <th>4</th>\n",
       "      <td>5</td>\n",
       "      <td>10/1/2005</td>\n",
       "      <td>13:10:00</td>\n",
       "      <td>X3</td>\n",
       "      <td>white</td>\n",
       "      <td>female</td>\n",
       "      <td>200</td>\n",
       "      <td>vehicular</td>\n",
       "      <td>False</td>\n",
       "      <td>True</td>\n",
       "      <td>...</td>\n",
       "      <td>Speeding</td>\n",
       "      <td>NaN</td>\n",
       "      <td>NaN</td>\n",
       "      <td>SP</td>\n",
       "      <td>W</td>\n",
       "      <td>F</td>\n",
       "      <td>M</td>\n",
       "      <td>NaN</td>\n",
       "      <td>NaN</td>\n",
       "      <td>NaN</td>\n",
       "    </tr>\n",
       "    <tr>\n",
       "      <th>5</th>\n",
       "      <td>6</td>\n",
       "      <td>10/1/2005</td>\n",
       "      <td>15:50:00</td>\n",
       "      <td>X3</td>\n",
       "      <td>white</td>\n",
       "      <td>male</td>\n",
       "      <td>200</td>\n",
       "      <td>vehicular</td>\n",
       "      <td>False</td>\n",
       "      <td>True</td>\n",
       "      <td>...</td>\n",
       "      <td>Other Traffic Violation</td>\n",
       "      <td>NaN</td>\n",
       "      <td>NaN</td>\n",
       "      <td>OT</td>\n",
       "      <td>W</td>\n",
       "      <td>M</td>\n",
       "      <td>M</td>\n",
       "      <td>NaN</td>\n",
       "      <td>NaN</td>\n",
       "      <td>NaN</td>\n",
       "    </tr>\n",
       "    <tr>\n",
       "      <th>6</th>\n",
       "      <td>7</td>\n",
       "      <td>9/11/2005</td>\n",
       "      <td>11:45:00</td>\n",
       "      <td>X3</td>\n",
       "      <td>white</td>\n",
       "      <td>male</td>\n",
       "      <td>200</td>\n",
       "      <td>vehicular</td>\n",
       "      <td>False</td>\n",
       "      <td>True</td>\n",
       "      <td>...</td>\n",
       "      <td>Speeding</td>\n",
       "      <td>NaN</td>\n",
       "      <td>NaN</td>\n",
       "      <td>SP</td>\n",
       "      <td>W</td>\n",
       "      <td>M</td>\n",
       "      <td>M</td>\n",
       "      <td>NaN</td>\n",
       "      <td>NaN</td>\n",
       "      <td>NaN</td>\n",
       "    </tr>\n",
       "    <tr>\n",
       "      <th>7</th>\n",
       "      <td>8</td>\n",
       "      <td>9/11/2005</td>\n",
       "      <td>11:45:00</td>\n",
       "      <td>X3</td>\n",
       "      <td>white</td>\n",
       "      <td>female</td>\n",
       "      <td>200</td>\n",
       "      <td>vehicular</td>\n",
       "      <td>False</td>\n",
       "      <td>True</td>\n",
       "      <td>...</td>\n",
       "      <td>Speeding</td>\n",
       "      <td>NaN</td>\n",
       "      <td>NaN</td>\n",
       "      <td>SP</td>\n",
       "      <td>W</td>\n",
       "      <td>F</td>\n",
       "      <td>M</td>\n",
       "      <td>NaN</td>\n",
       "      <td>NaN</td>\n",
       "      <td>NaN</td>\n",
       "    </tr>\n",
       "    <tr>\n",
       "      <th>8</th>\n",
       "      <td>9</td>\n",
       "      <td>10/4/2005</td>\n",
       "      <td>11:55:00</td>\n",
       "      <td>X3</td>\n",
       "      <td>hispanic</td>\n",
       "      <td>male</td>\n",
       "      <td>200</td>\n",
       "      <td>vehicular</td>\n",
       "      <td>False</td>\n",
       "      <td>True</td>\n",
       "      <td>...</td>\n",
       "      <td>Speeding</td>\n",
       "      <td>NaN</td>\n",
       "      <td>NaN</td>\n",
       "      <td>SP</td>\n",
       "      <td>H</td>\n",
       "      <td>M</td>\n",
       "      <td>M</td>\n",
       "      <td>NaN</td>\n",
       "      <td>NaN</td>\n",
       "      <td>NaN</td>\n",
       "    </tr>\n",
       "    <tr>\n",
       "      <th>9</th>\n",
       "      <td>10</td>\n",
       "      <td>10/4/2005</td>\n",
       "      <td>11:55:00</td>\n",
       "      <td>X3</td>\n",
       "      <td>white</td>\n",
       "      <td>male</td>\n",
       "      <td>200</td>\n",
       "      <td>vehicular</td>\n",
       "      <td>False</td>\n",
       "      <td>True</td>\n",
       "      <td>...</td>\n",
       "      <td>Speeding</td>\n",
       "      <td>NaN</td>\n",
       "      <td>NaN</td>\n",
       "      <td>SP</td>\n",
       "      <td>W</td>\n",
       "      <td>M</td>\n",
       "      <td>M</td>\n",
       "      <td>NaN</td>\n",
       "      <td>NaN</td>\n",
       "      <td>NaN</td>\n",
       "    </tr>\n",
       "  </tbody>\n",
       "</table>\n",
       "<p>10 rows × 31 columns</p>\n",
       "</div>"
      ],
      "text/plain": [
       "   raw_row_number        date      time zone subject_race subject_sex  \\\n",
       "0               1  11/22/2005  11:15:00   X3        white        male   \n",
       "1               2   10/1/2005  12:20:00   X3        white        male   \n",
       "2               3   10/1/2005  12:30:00   X3        white      female   \n",
       "3               4   10/1/2005  12:50:00   X3        white        male   \n",
       "4               5   10/1/2005  13:10:00   X3        white      female   \n",
       "5               6   10/1/2005  15:50:00   X3        white        male   \n",
       "6               7   9/11/2005  11:45:00   X3        white        male   \n",
       "7               8   9/11/2005  11:45:00   X3        white      female   \n",
       "8               9   10/4/2005  11:55:00   X3     hispanic        male   \n",
       "9              10   10/4/2005  11:55:00   X3        white        male   \n",
       "\n",
       "  department_id       type arrest_made citation_issued  ...  \\\n",
       "0           200  vehicular       False            True  ...   \n",
       "1           200  vehicular       False            True  ...   \n",
       "2           200  vehicular       False            True  ...   \n",
       "3           200  vehicular       False            True  ...   \n",
       "4           200  vehicular       False            True  ...   \n",
       "5           200  vehicular       False            True  ...   \n",
       "6           200  vehicular       False            True  ...   \n",
       "7           200  vehicular       False            True  ...   \n",
       "8           200  vehicular       False            True  ...   \n",
       "9           200  vehicular       False            True  ...   \n",
       "\n",
       "           reason_for_stop vehicle_make vehicle_model raw_BasisForStop  \\\n",
       "0                 Speeding          NaN           NaN               SP   \n",
       "1                 Speeding          NaN           NaN               SP   \n",
       "2                 Speeding          NaN           NaN               SP   \n",
       "3                 Speeding          NaN           NaN               SP   \n",
       "4                 Speeding          NaN           NaN               SP   \n",
       "5  Other Traffic Violation          NaN           NaN               OT   \n",
       "6                 Speeding          NaN           NaN               SP   \n",
       "7                 Speeding          NaN           NaN               SP   \n",
       "8                 Speeding          NaN           NaN               SP   \n",
       "9                 Speeding          NaN           NaN               SP   \n",
       "\n",
       "  raw_OperatorRace raw_OperatorSex raw_ResultOfStop raw_SearchResultOne  \\\n",
       "0                W               M                M                 NaN   \n",
       "1                W               M                M                 NaN   \n",
       "2                W               F                M                 NaN   \n",
       "3                W               M                M                 NaN   \n",
       "4                W               F                M                 NaN   \n",
       "5                W               M                M                 NaN   \n",
       "6                W               M                M                 NaN   \n",
       "7                W               F                M                 NaN   \n",
       "8                H               M                M                 NaN   \n",
       "9                W               M                M                 NaN   \n",
       "\n",
       "   raw_SearchResultTwo raw_SearchResultThree  \n",
       "0                  NaN                   NaN  \n",
       "1                  NaN                   NaN  \n",
       "2                  NaN                   NaN  \n",
       "3                  NaN                   NaN  \n",
       "4                  NaN                   NaN  \n",
       "5                  NaN                   NaN  \n",
       "6                  NaN                   NaN  \n",
       "7                  NaN                   NaN  \n",
       "8                  NaN                   NaN  \n",
       "9                  NaN                   NaN  \n",
       "\n",
       "[10 rows x 31 columns]"
      ]
     },
     "execution_count": 223,
     "metadata": {},
     "output_type": "execute_result"
    }
   ],
   "source": [
    "ri = pd.read_csv('ri_statewide_2020_04_01.csv')\n",
    "ri.head(10)"
   ]
  },
  {
   "cell_type": "code",
   "execution_count": 224,
   "metadata": {},
   "outputs": [
    {
     "data": {
      "text/plain": [
       "(509681, 31)"
      ]
     },
     "execution_count": 224,
     "metadata": {},
     "output_type": "execute_result"
    }
   ],
   "source": [
    "ri.shape"
   ]
  },
  {
   "cell_type": "code",
   "execution_count": 225,
   "metadata": {},
   "outputs": [
    {
     "data": {
      "text/plain": [
       "Index(['raw_row_number', 'date', 'time', 'zone', 'subject_race', 'subject_sex',\n",
       "       'department_id', 'type', 'arrest_made', 'citation_issued',\n",
       "       'warning_issued', 'outcome', 'contraband_found', 'contraband_drugs',\n",
       "       'contraband_weapons', 'contraband_alcohol', 'contraband_other',\n",
       "       'frisk_performed', 'search_conducted', 'search_basis',\n",
       "       'reason_for_search', 'reason_for_stop', 'vehicle_make', 'vehicle_model',\n",
       "       'raw_BasisForStop', 'raw_OperatorRace', 'raw_OperatorSex',\n",
       "       'raw_ResultOfStop', 'raw_SearchResultOne', 'raw_SearchResultTwo',\n",
       "       'raw_SearchResultThree'],\n",
       "      dtype='object')"
      ]
     },
     "execution_count": 225,
     "metadata": {},
     "output_type": "execute_result"
    }
   ],
   "source": [
    "ri.columns"
   ]
  },
  {
   "cell_type": "code",
   "execution_count": 226,
   "metadata": {},
   "outputs": [
    {
     "data": {
      "text/plain": [
       "raw_row_number                0\n",
       "date                         10\n",
       "time                         10\n",
       "zone                         10\n",
       "subject_race              29073\n",
       "subject_sex               29097\n",
       "department_id                10\n",
       "type                          0\n",
       "arrest_made               29073\n",
       "citation_issued           29073\n",
       "warning_issued            29073\n",
       "outcome                   35841\n",
       "contraband_found         491919\n",
       "contraband_drugs         493693\n",
       "contraband_weapons       497886\n",
       "contraband_alcohol       508464\n",
       "contraband_other         491919\n",
       "frisk_performed              10\n",
       "search_conducted              0\n",
       "search_basis             491919\n",
       "reason_for_search        491919\n",
       "reason_for_stop           29073\n",
       "vehicle_make             191564\n",
       "vehicle_model            279593\n",
       "raw_BasisForStop          29073\n",
       "raw_OperatorRace          29073\n",
       "raw_OperatorSex           29073\n",
       "raw_ResultOfStop          29073\n",
       "raw_SearchResultOne      491919\n",
       "raw_SearchResultTwo      508862\n",
       "raw_SearchResultThree    509513\n",
       "dtype: int64"
      ]
     },
     "execution_count": 226,
     "metadata": {},
     "output_type": "execute_result"
    }
   ],
   "source": [
    "ri.isnull().sum()"
   ]
  },
  {
   "cell_type": "code",
   "execution_count": 227,
   "metadata": {},
   "outputs": [],
   "source": [
    "ri.drop(['raw_BasisForStop',\n",
    " 'raw_OperatorRace',\n",
    " 'raw_OperatorSex',\n",
    " 'raw_ResultOfStop',\n",
    " 'raw_SearchResultOne',\n",
    " 'raw_SearchResultTwo',\n",
    " 'raw_SearchResultThree'], axis = 'columns', inplace = True) # No info on this variables"
   ]
  },
  {
   "cell_type": "code",
   "execution_count": 228,
   "metadata": {},
   "outputs": [
    {
     "data": {
      "text/plain": [
       "raw_row_number             0\n",
       "date                      10\n",
       "time                      10\n",
       "zone                      10\n",
       "subject_race           29073\n",
       "subject_sex            29097\n",
       "department_id             10\n",
       "type                       0\n",
       "arrest_made            29073\n",
       "citation_issued        29073\n",
       "warning_issued         29073\n",
       "outcome                35841\n",
       "contraband_found      491919\n",
       "contraband_drugs      493693\n",
       "contraband_weapons    497886\n",
       "contraband_alcohol    508464\n",
       "contraband_other      491919\n",
       "frisk_performed           10\n",
       "search_conducted           0\n",
       "search_basis          491919\n",
       "reason_for_search     491919\n",
       "reason_for_stop        29073\n",
       "vehicle_make          191564\n",
       "vehicle_model         279593\n",
       "dtype: int64"
      ]
     },
     "execution_count": 228,
     "metadata": {},
     "output_type": "execute_result"
    }
   ],
   "source": [
    "ri.shape\n",
    "ri.isnull().sum()"
   ]
  },
  {
   "cell_type": "code",
   "execution_count": 229,
   "metadata": {},
   "outputs": [],
   "source": [
    "# This variables are critical for EDA\n",
    "ri.dropna(subset = ['subject_race', 'subject_sex', 'reason_for_stop', 'outcome'], inplace = True)"
   ]
  },
  {
   "cell_type": "code",
   "execution_count": 230,
   "metadata": {},
   "outputs": [
    {
     "data": {
      "text/plain": [
       "raw_row_number             0\n",
       "date                       0\n",
       "time                       0\n",
       "zone                       0\n",
       "subject_race               0\n",
       "subject_sex                0\n",
       "department_id              0\n",
       "type                       0\n",
       "arrest_made                0\n",
       "citation_issued            0\n",
       "warning_issued             0\n",
       "outcome                    0\n",
       "contraband_found      456490\n",
       "contraband_drugs      458226\n",
       "contraband_weapons    462316\n",
       "contraband_alcohol    472621\n",
       "contraband_other      456490\n",
       "frisk_performed            0\n",
       "search_conducted           0\n",
       "search_basis          456490\n",
       "reason_for_search     456490\n",
       "reason_for_stop            0\n",
       "vehicle_make          161088\n",
       "vehicle_model         247447\n",
       "dtype: int64"
      ]
     },
     "execution_count": 230,
     "metadata": {},
     "output_type": "execute_result"
    }
   ],
   "source": [
    "ri.isnull().sum()"
   ]
  },
  {
   "cell_type": "code",
   "execution_count": 231,
   "metadata": {},
   "outputs": [
    {
     "data": {
      "text/plain": [
       "(473821, 24)"
      ]
     },
     "execution_count": 231,
     "metadata": {},
     "output_type": "execute_result"
    }
   ],
   "source": [
    "ri.shape"
   ]
  },
  {
   "cell_type": "code",
   "execution_count": 232,
   "metadata": {},
   "outputs": [],
   "source": [
    "ri['arrest_made'] = ri.arrest_made.astype('bool')\n",
    "ri['citation_issued'] = ri.citation_issued.astype('bool')\n",
    "ri['warning_issued'] = ri.warning_issued.astype('bool')"
   ]
  },
  {
   "cell_type": "code",
   "execution_count": 233,
   "metadata": {},
   "outputs": [
    {
     "data": {
      "text/plain": [
       "raw_row_number         int64\n",
       "date                  object\n",
       "time                  object\n",
       "zone                  object\n",
       "subject_race          object\n",
       "subject_sex           object\n",
       "department_id         object\n",
       "type                  object\n",
       "arrest_made             bool\n",
       "citation_issued         bool\n",
       "warning_issued          bool\n",
       "outcome               object\n",
       "contraband_found      object\n",
       "contraband_drugs      object\n",
       "contraband_weapons    object\n",
       "contraband_alcohol    object\n",
       "contraband_other      object\n",
       "frisk_performed       object\n",
       "search_conducted        bool\n",
       "search_basis          object\n",
       "reason_for_search     object\n",
       "reason_for_stop       object\n",
       "vehicle_make          object\n",
       "vehicle_model         object\n",
       "dtype: object"
      ]
     },
     "execution_count": 233,
     "metadata": {},
     "output_type": "execute_result"
    }
   ],
   "source": [
    "ri.dtypes"
   ]
  },
  {
   "cell_type": "code",
   "execution_count": 234,
   "metadata": {},
   "outputs": [],
   "source": [
    "combined = ri.date.str.cat(ri.time, sep = ' ')\n",
    "ri['stop_datetime'] = pd.to_datetime(combined)\n",
    "ri.set_index('stop_datetime', inplace = True)"
   ]
  },
  {
   "cell_type": "code",
   "execution_count": 235,
   "metadata": {},
   "outputs": [
    {
     "data": {
      "text/plain": [
       "DatetimeIndex(['2005-11-22 11:15:00', '2005-10-01 12:20:00',\n",
       "               '2005-10-01 12:30:00', '2005-10-01 12:50:00',\n",
       "               '2005-10-01 13:10:00', '2005-10-01 15:50:00',\n",
       "               '2005-09-11 11:45:00', '2005-09-11 11:45:00',\n",
       "               '2005-10-04 11:55:00', '2005-10-04 11:55:00',\n",
       "               ...\n",
       "               '2015-12-28 00:10:00', '2015-12-29 13:28:00',\n",
       "               '2015-12-27 12:45:00', '2015-12-27 13:43:00',\n",
       "               '2015-12-28 02:29:00', '2015-12-30 11:42:00',\n",
       "               '2015-08-04 10:40:00', '2015-12-20 11:17:00',\n",
       "               '2015-11-09 23:35:00', '2015-10-30 11:09:00'],\n",
       "              dtype='datetime64[ns]', name='stop_datetime', length=473821, freq=None)"
      ]
     },
     "execution_count": 235,
     "metadata": {},
     "output_type": "execute_result"
    }
   ],
   "source": [
    "ri.index"
   ]
  },
  {
   "cell_type": "code",
   "execution_count": 236,
   "metadata": {},
   "outputs": [
    {
     "data": {
      "text/plain": [
       "Index(['raw_row_number', 'date', 'time', 'zone', 'subject_race', 'subject_sex',\n",
       "       'department_id', 'type', 'arrest_made', 'citation_issued',\n",
       "       'warning_issued', 'outcome', 'contraband_found', 'contraband_drugs',\n",
       "       'contraband_weapons', 'contraband_alcohol', 'contraband_other',\n",
       "       'frisk_performed', 'search_conducted', 'search_basis',\n",
       "       'reason_for_search', 'reason_for_stop', 'vehicle_make',\n",
       "       'vehicle_model'],\n",
       "      dtype='object')"
      ]
     },
     "execution_count": 236,
     "metadata": {},
     "output_type": "execute_result"
    }
   ],
   "source": [
    "ri.columns"
   ]
  },
  {
   "cell_type": "markdown",
   "metadata": {},
   "source": [
    "## Exploration"
   ]
  },
  {
   "cell_type": "code",
   "execution_count": 237,
   "metadata": {},
   "outputs": [
    {
     "data": {
      "text/plain": [
       "Speeding                            0.566043\n",
       "Other Traffic Violation             0.189101\n",
       "Equipment/Inspection Violation      0.122935\n",
       "Registration Violation              0.041362\n",
       "Seatbelt Violation                  0.034340\n",
       "Special Detail/Directed Patrol      0.028399\n",
       "Call for Service                    0.013271\n",
       "Violation of City/Town Ordinance    0.002153\n",
       "APB                                 0.000939\n",
       "Motorist Assist/Courtesy            0.000770\n",
       "Suspicious Person                   0.000466\n",
       "Warrant                             0.000222\n",
       "Name: reason_for_stop, dtype: float64"
      ]
     },
     "execution_count": 237,
     "metadata": {},
     "output_type": "execute_result"
    }
   ],
   "source": [
    "ri.reason_for_stop.value_counts(normalize = True)"
   ]
  },
  {
   "cell_type": "code",
   "execution_count": 238,
   "metadata": {},
   "outputs": [
    {
     "data": {
      "text/plain": [
       "(Speeding                            0.666050\n",
       " Other Traffic Violation             0.137567\n",
       " Equipment/Inspection Violation      0.102869\n",
       " Registration Violation              0.043379\n",
       " Seatbelt Violation                  0.027424\n",
       " Call for Service                    0.014014\n",
       " Special Detail/Directed Patrol      0.005115\n",
       " Violation of City/Town Ordinance    0.001633\n",
       " APB                                 0.000782\n",
       " Motorist Assist/Courtesy            0.000650\n",
       " Suspicious Person                   0.000340\n",
       " Warrant                             0.000178\n",
       " Name: reason_for_stop, dtype: float64,\n",
       " Speeding                            0.528537\n",
       " Other Traffic Violation             0.208428\n",
       " Equipment/Inspection Violation      0.130460\n",
       " Registration Violation              0.040605\n",
       " Special Detail/Directed Patrol      0.037131\n",
       " Seatbelt Violation                  0.036934\n",
       " Call for Service                    0.012992\n",
       " Violation of City/Town Ordinance    0.002348\n",
       " APB                                 0.000998\n",
       " Motorist Assist/Courtesy            0.000815\n",
       " Suspicious Person                   0.000514\n",
       " Warrant                             0.000238\n",
       " Name: reason_for_stop, dtype: float64)"
      ]
     },
     "execution_count": 238,
     "metadata": {},
     "output_type": "execute_result"
    }
   ],
   "source": [
    "female = ri[ri.subject_sex == 'female']\n",
    "male = ri[ri.subject_sex == 'male']\n",
    "female.reason_for_stop.value_counts(normalize = True), male.reason_for_stop.value_counts(normalize = True)"
   ]
  },
  {
   "cell_type": "code",
   "execution_count": 239,
   "metadata": {},
   "outputs": [
    {
     "data": {
      "text/plain": [
       "(citation    0.954609\n",
       " warning     0.039059\n",
       " arrest      0.006332\n",
       " Name: outcome, dtype: float64,\n",
       " citation    0.946763\n",
       " warning     0.036167\n",
       " arrest      0.017070\n",
       " Name: outcome, dtype: float64)"
      ]
     },
     "execution_count": 239,
     "metadata": {},
     "output_type": "execute_result"
    }
   ],
   "source": [
    "f_and_spd = ri[(ri.subject_sex == 'female') & (ri.reason_for_stop == 'Speeding')]\n",
    "m_and_spd = ri[(ri.subject_sex == 'male') & (ri.reason_for_stop == 'Speeding')]\n",
    "f_and_spd.outcome.value_counts(normalize = True), m_and_spd.outcome.value_counts(normalize = True)"
   ]
  },
  {
   "cell_type": "code",
   "execution_count": 240,
   "metadata": {},
   "outputs": [
    {
     "data": {
      "text/plain": [
       "0.03657710401185258"
      ]
     },
     "execution_count": 240,
     "metadata": {},
     "output_type": "execute_result"
    }
   ],
   "source": [
    "ri.search_conducted.mean()"
   ]
  },
  {
   "cell_type": "code",
   "execution_count": 241,
   "metadata": {},
   "outputs": [
    {
     "data": {
      "text/plain": [
       "subject_sex\n",
       "female    0.018556\n",
       "male      0.043336\n",
       "Name: search_conducted, dtype: float64"
      ]
     },
     "execution_count": 241,
     "metadata": {},
     "output_type": "execute_result"
    }
   ],
   "source": [
    "ri.groupby('subject_sex').search_conducted.mean()"
   ]
  },
  {
   "cell_type": "code",
   "execution_count": 242,
   "metadata": {},
   "outputs": [
    {
     "data": {
      "text/plain": [
       "reason_for_stop                   subject_sex\n",
       "APB                               female         0.168317\n",
       "                                  male           0.270349\n",
       "Call for Service                  female         0.054114\n",
       "                                  male           0.106768\n",
       "Equipment/Inspection Violation    female         0.040394\n",
       "                                  male           0.071471\n",
       "Motorist Assist/Courtesy          female         0.119048\n",
       "                                  male           0.202847\n",
       "Other Traffic Violation           female         0.037462\n",
       "                                  male           0.058130\n",
       "Registration Violation            female         0.053871\n",
       "                                  male           0.101987\n",
       "Seatbelt Violation                female         0.017777\n",
       "                                  male           0.031429\n",
       "Special Detail/Directed Patrol    female         0.018154\n",
       "                                  male           0.010238\n",
       "Speeding                          female         0.007714\n",
       "                                  male           0.026437\n",
       "Suspicious Person                 female         0.272727\n",
       "                                  male           0.344633\n",
       "Violation of City/Town Ordinance  female         0.061611\n",
       "                                  male           0.069221\n",
       "Warrant                           female         0.173913\n",
       "                                  male           0.329268\n",
       "Name: search_conducted, dtype: float64"
      ]
     },
     "execution_count": 242,
     "metadata": {},
     "output_type": "execute_result"
    }
   ],
   "source": [
    "ri.groupby(['reason_for_stop', 'subject_sex']).search_conducted.mean()"
   ]
  },
  {
   "cell_type": "code",
   "execution_count": 243,
   "metadata": {},
   "outputs": [
    {
     "data": {
      "text/plain": [
       "False    456490\n",
       "True      17331\n",
       "Name: search_conducted, dtype: int64"
      ]
     },
     "execution_count": 243,
     "metadata": {},
     "output_type": "execute_result"
    }
   ],
   "source": [
    "ri.search_conducted.value_counts()"
   ]
  },
  {
   "cell_type": "code",
   "execution_count": 244,
   "metadata": {},
   "outputs": [
    {
     "data": {
      "text/plain": [
       "(NaN                                         456490\n",
       " Incident to Arrest                            6810\n",
       " Probable Cause                                2042\n",
       " Odor of Drugs/Alcohol                         1824\n",
       " Reasonable Suspicion                          1105\n",
       " Inventory/Tow                                 1083\n",
       " Terry Frisk                                    853\n",
       " Incident to Arrest|Inventory/Tow               559\n",
       " Plain View                                     405\n",
       " Odor of Drugs/Alcohol|Probable Cause           151\n",
       " Probable Cause|Odor of Drugs/Alcohol           144\n",
       " Incident to Arrest|Odor of Drugs/Alcohol       122\n",
       " Incident to Arrest|Terry Frisk                  99\n",
       " Incident to Arrest|Probable Cause               99\n",
       " Odor of Drugs/Alcohol|Incident to Arrest        93\n",
       " Name: reason_for_search, dtype: int64,\n",
       " (473821, 24))"
      ]
     },
     "execution_count": 244,
     "metadata": {},
     "output_type": "execute_result"
    }
   ],
   "source": [
    "ri.reason_for_search.value_counts(dropna = False).head(15), ri.shape"
   ]
  },
  {
   "cell_type": "code",
   "execution_count": 245,
   "metadata": {},
   "outputs": [
    {
     "data": {
      "text/plain": [
       "0.036577104011852546"
      ]
     },
     "execution_count": 245,
     "metadata": {},
     "output_type": "execute_result"
    }
   ],
   "source": [
    "1- (ri.reason_for_search.isnull().sum())/(ri.shape[0])"
   ]
  },
  {
   "cell_type": "code",
   "execution_count": 246,
   "metadata": {},
   "outputs": [
    {
     "data": {
      "text/plain": [
       "(dtype('bool'), 1560)"
      ]
     },
     "execution_count": 246,
     "metadata": {},
     "output_type": "execute_result"
    }
   ],
   "source": [
    "ri['frisk'] = ri.reason_for_search.str.contains('Terry Frisk', na=False)\n",
    "ri.frisk.dtype, ri.frisk.sum()"
   ]
  },
  {
   "cell_type": "code",
   "execution_count": 247,
   "metadata": {},
   "outputs": [
    {
     "data": {
      "text/plain": [
       "0.09001211701575212"
      ]
     },
     "execution_count": 247,
     "metadata": {},
     "output_type": "execute_result"
    }
   ],
   "source": [
    "searched = ri[ri.search_conducted == True]\n",
    "searched.frisk.mean()"
   ]
  },
  {
   "cell_type": "code",
   "execution_count": 248,
   "metadata": {},
   "outputs": [
    {
     "data": {
      "text/plain": [
       "subject_sex\n",
       "female    0.065888\n",
       "male      0.093886\n",
       "Name: frisk, dtype: float64"
      ]
     },
     "execution_count": 248,
     "metadata": {},
     "output_type": "execute_result"
    }
   ],
   "source": [
    "searched.groupby('subject_sex').frisk.mean()"
   ]
  },
  {
   "cell_type": "code",
   "execution_count": 249,
   "metadata": {},
   "outputs": [
    {
     "data": {
      "text/plain": [
       "0.03504065881419355"
      ]
     },
     "execution_count": 249,
     "metadata": {},
     "output_type": "execute_result"
    }
   ],
   "source": [
    "ri.arrest_made.mean()"
   ]
  },
  {
   "cell_type": "code",
   "execution_count": 250,
   "metadata": {},
   "outputs": [
    {
     "data": {
      "text/plain": [
       "stop_datetime\n",
       "0     0.053293\n",
       "1     0.068647\n",
       "2     0.062293\n",
       "3     0.053638\n",
       "4     0.055306\n",
       "5     0.033394\n",
       "6     0.013098\n",
       "7     0.014010\n",
       "8     0.019945\n",
       "9     0.024934\n",
       "10    0.025823\n",
       "11    0.027322\n",
       "12    0.031718\n",
       "13    0.030573\n",
       "14    0.031927\n",
       "15    0.032575\n",
       "16    0.034051\n",
       "17    0.039632\n",
       "18    0.040474\n",
       "19    0.031799\n",
       "20    0.039865\n",
       "21    0.061108\n",
       "22    0.044777\n",
       "23    0.046019\n",
       "Name: arrest_made, dtype: float64"
      ]
     },
     "execution_count": 250,
     "metadata": {},
     "output_type": "execute_result"
    }
   ],
   "source": [
    "arr_hour = ri.groupby(ri.index.hour).arrest_made.mean()\n",
    "arr_hour"
   ]
  },
  {
   "cell_type": "code",
   "execution_count": 251,
   "metadata": {},
   "outputs": [
    {
     "data": {
      "text/plain": [
       "stop_datetime\n",
       "1     0.037158\n",
       "2     0.038000\n",
       "3     0.033345\n",
       "4     0.033122\n",
       "5     0.033166\n",
       "6     0.032888\n",
       "7     0.036470\n",
       "8     0.033470\n",
       "9     0.031553\n",
       "10    0.035276\n",
       "11    0.034720\n",
       "12    0.041843\n",
       "Name: arrest_made, dtype: float64"
      ]
     },
     "execution_count": 251,
     "metadata": {},
     "output_type": "execute_result"
    }
   ],
   "source": [
    "arr_month = ri.groupby(ri.index.month).arrest_made.mean()\n",
    "arr_month"
   ]
  },
  {
   "cell_type": "code",
   "execution_count": 252,
   "metadata": {},
   "outputs": [],
   "source": [
    "import matplotlib.pyplot as plt"
   ]
  },
  {
   "cell_type": "code",
   "execution_count": 253,
   "metadata": {},
   "outputs": [
    {
     "data": {
      "image/png": "[encoded data removed]",
      "text/plain": [
       "<Figure size 432x288 with 1 Axes>"
      ]
     },
     "metadata": {
      "needs_background": "light"
     },
     "output_type": "display_data"
    }
   ],
   "source": [
    "plt.plot(arr_hour)\n",
    "plt.xlabel('Hour')\n",
    "plt.ylabel('Arrest Rate')\n",
    "plt.title('Arrest Rate by Time of Day');"
   ]
  },
  {
   "cell_type": "code",
   "execution_count": 254,
   "metadata": {},
   "outputs": [
    {
     "data": {
      "text/plain": [
       "(stop_datetime\n",
       " 2005    0.176375\n",
       " 2006    0.193600\n",
       " 2007    0.223555\n",
       " 2008    0.218194\n",
       " 2009    0.239905\n",
       " 2010    0.271528\n",
       " 2011    0.328691\n",
       " 2012    0.345923\n",
       " 2013    0.448182\n",
       " 2014    0.468935\n",
       " 2015    0.431373\n",
       " Name: contraband_drugs, dtype: float64,\n",
       " stop_datetime\n",
       " 2005    0.050839\n",
       " 2006    0.037844\n",
       " 2007    0.041296\n",
       " 2008    0.038453\n",
       " 2009    0.048784\n",
       " 2010    0.041556\n",
       " 2011    0.037283\n",
       " 2012    0.031998\n",
       " 2013    0.028916\n",
       " 2014    0.030060\n",
       " 2015    0.027673\n",
       " Name: search_conducted, dtype: float64)"
      ]
     },
     "execution_count": 254,
     "metadata": {},
     "output_type": "execute_result"
    }
   ],
   "source": [
    "searched = ri[ri.search_conducted == True]\n",
    "drugs = searched.groupby(searched.index.year).contraband_drugs.mean()\n",
    "search_cond = ri.groupby(ri.index.year).search_conducted.mean()\n",
    "drugs, search_cond"
   ]
  },
  {
   "cell_type": "code",
   "execution_count": 255,
   "metadata": {},
   "outputs": [
    {
     "data": {
      "image/png": "[encoded data removed]",
      "text/plain": [
       "<Figure size 432x288 with 2 Axes>"
      ]
     },
     "metadata": {
      "needs_background": "light"
     },
     "output_type": "display_data"
    }
   ],
   "source": [
    "annual = pd.concat([drugs, search_cond], axis = 1)\n",
    "annual.plot(subplots = True);"
   ]
  },
  {
   "cell_type": "code",
   "execution_count": 256,
   "metadata": {},
   "outputs": [
    {
     "data": {
      "text/plain": [
       "<AxesSubplot:ylabel='subject_race'>"
      ]
     },
     "execution_count": 256,
     "metadata": {},
     "output_type": "execute_result"
    },
    {
     "data": {
      "image/png": "[encoded data removed]",
      "text/plain": [
       "<Figure size 432x288 with 1 Axes>"
      ]
     },
     "metadata": {
      "needs_background": "light"
     },
     "output_type": "display_data"
    }
   ],
   "source": [
    "table = pd.crosstab(ri.subject_race, ri.subject_sex)\n",
    "table.plot(kind = 'barh')"
   ]
  },
  {
   "cell_type": "markdown",
   "metadata": {},
   "source": [
    "# Data cleaning of new dataset\n",
    "\n",
    "Dataset from: \n",
    "https://www.ncei.noaa.gov/"
   ]
  },
  {
   "cell_type": "code",
   "execution_count": 257,
   "metadata": {},
   "outputs": [
    {
     "data": {
      "text/html": [
       "<div>\n",
       "<style scoped>\n",
       "    .dataframe tbody tr th:only-of-type {\n",
       "        vertical-align: middle;\n",
       "    }\n",
       "\n",
       "    .dataframe tbody tr th {\n",
       "        vertical-align: top;\n",
       "    }\n",
       "\n",
       "    .dataframe thead th {\n",
       "        text-align: right;\n",
       "    }\n",
       "</style>\n",
       "<table border=\"1\" class=\"dataframe\">\n",
       "  <thead>\n",
       "    <tr style=\"text-align: right;\">\n",
       "      <th></th>\n",
       "      <th>STATION</th>\n",
       "      <th>NAME</th>\n",
       "      <th>LATITUDE</th>\n",
       "      <th>LONGITUDE</th>\n",
       "      <th>ELEVATION</th>\n",
       "      <th>DATE</th>\n",
       "      <th>ACMH</th>\n",
       "      <th>ACMH_ATTRIBUTES</th>\n",
       "      <th>ACSH</th>\n",
       "      <th>ACSH_ATTRIBUTES</th>\n",
       "      <th>...</th>\n",
       "      <th>WT21</th>\n",
       "      <th>WT21_ATTRIBUTES</th>\n",
       "      <th>WT22</th>\n",
       "      <th>WT22_ATTRIBUTES</th>\n",
       "      <th>WV01</th>\n",
       "      <th>WV01_ATTRIBUTES</th>\n",
       "      <th>WV03</th>\n",
       "      <th>WV03_ATTRIBUTES</th>\n",
       "      <th>WV20</th>\n",
       "      <th>WV20_ATTRIBUTES</th>\n",
       "    </tr>\n",
       "  </thead>\n",
       "  <tbody>\n",
       "    <tr>\n",
       "      <th>0</th>\n",
       "      <td>USW00014765</td>\n",
       "      <td>PROVIDENCE, RI US</td>\n",
       "      <td>41.72252</td>\n",
       "      <td>-71.43248</td>\n",
       "      <td>15.4</td>\n",
       "      <td>12/31/2015</td>\n",
       "      <td>NaN</td>\n",
       "      <td>NaN</td>\n",
       "      <td>NaN</td>\n",
       "      <td>NaN</td>\n",
       "      <td>...</td>\n",
       "      <td>NaN</td>\n",
       "      <td>NaN</td>\n",
       "      <td>NaN</td>\n",
       "      <td>NaN</td>\n",
       "      <td>NaN</td>\n",
       "      <td>NaN</td>\n",
       "      <td>NaN</td>\n",
       "      <td>NaN</td>\n",
       "      <td>NaN</td>\n",
       "      <td>NaN</td>\n",
       "    </tr>\n",
       "    <tr>\n",
       "      <th>1</th>\n",
       "      <td>USW00014765</td>\n",
       "      <td>PROVIDENCE, RI US</td>\n",
       "      <td>41.72252</td>\n",
       "      <td>-71.43248</td>\n",
       "      <td>15.4</td>\n",
       "      <td>12/30/2015</td>\n",
       "      <td>NaN</td>\n",
       "      <td>NaN</td>\n",
       "      <td>NaN</td>\n",
       "      <td>NaN</td>\n",
       "      <td>...</td>\n",
       "      <td>NaN</td>\n",
       "      <td>NaN</td>\n",
       "      <td>NaN</td>\n",
       "      <td>NaN</td>\n",
       "      <td>NaN</td>\n",
       "      <td>NaN</td>\n",
       "      <td>NaN</td>\n",
       "      <td>NaN</td>\n",
       "      <td>NaN</td>\n",
       "      <td>NaN</td>\n",
       "    </tr>\n",
       "    <tr>\n",
       "      <th>2</th>\n",
       "      <td>USW00014765</td>\n",
       "      <td>PROVIDENCE, RI US</td>\n",
       "      <td>41.72252</td>\n",
       "      <td>-71.43248</td>\n",
       "      <td>15.4</td>\n",
       "      <td>12/29/2015</td>\n",
       "      <td>NaN</td>\n",
       "      <td>NaN</td>\n",
       "      <td>NaN</td>\n",
       "      <td>NaN</td>\n",
       "      <td>...</td>\n",
       "      <td>NaN</td>\n",
       "      <td>NaN</td>\n",
       "      <td>NaN</td>\n",
       "      <td>NaN</td>\n",
       "      <td>NaN</td>\n",
       "      <td>NaN</td>\n",
       "      <td>NaN</td>\n",
       "      <td>NaN</td>\n",
       "      <td>NaN</td>\n",
       "      <td>NaN</td>\n",
       "    </tr>\n",
       "    <tr>\n",
       "      <th>3</th>\n",
       "      <td>USW00014765</td>\n",
       "      <td>PROVIDENCE, RI US</td>\n",
       "      <td>41.72252</td>\n",
       "      <td>-71.43248</td>\n",
       "      <td>15.4</td>\n",
       "      <td>12/28/2015</td>\n",
       "      <td>NaN</td>\n",
       "      <td>NaN</td>\n",
       "      <td>NaN</td>\n",
       "      <td>NaN</td>\n",
       "      <td>...</td>\n",
       "      <td>NaN</td>\n",
       "      <td>NaN</td>\n",
       "      <td>NaN</td>\n",
       "      <td>NaN</td>\n",
       "      <td>NaN</td>\n",
       "      <td>NaN</td>\n",
       "      <td>NaN</td>\n",
       "      <td>NaN</td>\n",
       "      <td>NaN</td>\n",
       "      <td>NaN</td>\n",
       "    </tr>\n",
       "    <tr>\n",
       "      <th>4</th>\n",
       "      <td>USW00014765</td>\n",
       "      <td>PROVIDENCE, RI US</td>\n",
       "      <td>41.72252</td>\n",
       "      <td>-71.43248</td>\n",
       "      <td>15.4</td>\n",
       "      <td>12/27/2015</td>\n",
       "      <td>NaN</td>\n",
       "      <td>NaN</td>\n",
       "      <td>NaN</td>\n",
       "      <td>NaN</td>\n",
       "      <td>...</td>\n",
       "      <td>NaN</td>\n",
       "      <td>NaN</td>\n",
       "      <td>NaN</td>\n",
       "      <td>NaN</td>\n",
       "      <td>NaN</td>\n",
       "      <td>NaN</td>\n",
       "      <td>NaN</td>\n",
       "      <td>NaN</td>\n",
       "      <td>NaN</td>\n",
       "      <td>NaN</td>\n",
       "    </tr>\n",
       "  </tbody>\n",
       "</table>\n",
       "<p>5 rows × 100 columns</p>\n",
       "</div>"
      ],
      "text/plain": [
       "       STATION               NAME  LATITUDE  LONGITUDE  ELEVATION        DATE  \\\n",
       "0  USW00014765  PROVIDENCE, RI US  41.72252  -71.43248       15.4  12/31/2015   \n",
       "1  USW00014765  PROVIDENCE, RI US  41.72252  -71.43248       15.4  12/30/2015   \n",
       "2  USW00014765  PROVIDENCE, RI US  41.72252  -71.43248       15.4  12/29/2015   \n",
       "3  USW00014765  PROVIDENCE, RI US  41.72252  -71.43248       15.4  12/28/2015   \n",
       "4  USW00014765  PROVIDENCE, RI US  41.72252  -71.43248       15.4  12/27/2015   \n",
       "\n",
       "   ACMH  ACMH_ATTRIBUTES  ACSH  ACSH_ATTRIBUTES  ...  WT21 WT21_ATTRIBUTES  \\\n",
       "0   NaN              NaN   NaN              NaN  ...   NaN             NaN   \n",
       "1   NaN              NaN   NaN              NaN  ...   NaN             NaN   \n",
       "2   NaN              NaN   NaN              NaN  ...   NaN             NaN   \n",
       "3   NaN              NaN   NaN              NaN  ...   NaN             NaN   \n",
       "4   NaN              NaN   NaN              NaN  ...   NaN             NaN   \n",
       "\n",
       "   WT22 WT22_ATTRIBUTES  WV01  WV01_ATTRIBUTES  WV03 WV03_ATTRIBUTES  WV20  \\\n",
       "0   NaN             NaN   NaN              NaN   NaN             NaN   NaN   \n",
       "1   NaN             NaN   NaN              NaN   NaN             NaN   NaN   \n",
       "2   NaN             NaN   NaN              NaN   NaN             NaN   NaN   \n",
       "3   NaN             NaN   NaN              NaN   NaN             NaN   NaN   \n",
       "4   NaN             NaN   NaN              NaN   NaN             NaN   NaN   \n",
       "\n",
       "  WV20_ATTRIBUTES  \n",
       "0             NaN  \n",
       "1             NaN  \n",
       "2             NaN  \n",
       "3             NaN  \n",
       "4             NaN  \n",
       "\n",
       "[5 rows x 100 columns]"
      ]
     },
     "execution_count": 257,
     "metadata": {},
     "output_type": "execute_result"
    }
   ],
   "source": [
    "weather = pd.read_csv('USW00014765.csv')\n",
    "weather.head()"
   ]
  },
  {
   "cell_type": "code",
   "execution_count": 258,
   "metadata": {},
   "outputs": [
    {
     "data": {
      "text/plain": [
       "(      AWND  WSF2\n",
       " 1371  7.61  17.9\n",
       " 3669  8.50  17.9\n",
       " 839   6.04  15.0\n",
       " 94    3.80  16.1\n",
       " 3422  5.82  15.0,\n",
       "               AWND         WSF2\n",
       " count  4017.000000  4017.000000\n",
       " mean      8.593707    19.274782\n",
       " std       3.364601     5.623866\n",
       " min       0.220000     4.900000\n",
       " 25%       6.260000    15.000000\n",
       " 50%       8.050000    17.900000\n",
       " 75%      10.290000    21.900000\n",
       " max      26.840000    48.100000)"
      ]
     },
     "execution_count": 258,
     "metadata": {},
     "output_type": "execute_result"
    }
   ],
   "source": [
    "weather[['AWND', 'WSF2']].sample(5), weather[['AWND', 'WSF2']].describe()"
   ]
  },
  {
   "cell_type": "code",
   "execution_count": 259,
   "metadata": {},
   "outputs": [
    {
     "name": "stdout",
     "output_type": "stream",
     "text": [
      "<class 'pandas.core.frame.DataFrame'>\n",
      "RangeIndex: 4017 entries, 0 to 4016\n",
      "Data columns (total 100 columns):\n",
      " #   Column           Non-Null Count  Dtype  \n",
      "---  ------           --------------  -----  \n",
      " 0   STATION          4017 non-null   object \n",
      " 1   NAME             4017 non-null   object \n",
      " 2   LATITUDE         4017 non-null   float64\n",
      " 3   LONGITUDE        4017 non-null   float64\n",
      " 4   ELEVATION        4017 non-null   float64\n",
      " 5   DATE             4017 non-null   object \n",
      " 6   ACMH             0 non-null      float64\n",
      " 7   ACMH_ATTRIBUTES  0 non-null      float64\n",
      " 8   ACSH             0 non-null      float64\n",
      " 9   ACSH_ATTRIBUTES  0 non-null      float64\n",
      " 10  AWND             4017 non-null   float64\n",
      " 11  AWND_ATTRIBUTES  4017 non-null   object \n",
      " 12  FMTM             2526 non-null   float64\n",
      " 13  FMTM_ATTRIBUTES  2526 non-null   object \n",
      " 14  FRGT             0 non-null      float64\n",
      " 15  FRGT_ATTRIBUTES  0 non-null      float64\n",
      " 16  PGTM             2306 non-null   float64\n",
      " 17  PGTM_ATTRIBUTES  2306 non-null   object \n",
      " 18  PRCP             4017 non-null   float64\n",
      " 19  PRCP_ATTRIBUTES  4017 non-null   object \n",
      " 20  PSUN             0 non-null      float64\n",
      " 21  PSUN_ATTRIBUTES  0 non-null      float64\n",
      " 22  SNOW             4017 non-null   float64\n",
      " 23  SNOW_ATTRIBUTES  4017 non-null   object \n",
      " 24  SNWD             4017 non-null   float64\n",
      " 25  SNWD_ATTRIBUTES  4017 non-null   object \n",
      " 26  TAVG             4017 non-null   int64  \n",
      " 27  TAVG_ATTRIBUTES  4017 non-null   object \n",
      " 28  THIC             0 non-null      float64\n",
      " 29  THIC_ATTRIBUTES  0 non-null      float64\n",
      " 30  TMAX             4017 non-null   int64  \n",
      " 31  TMAX_ATTRIBUTES  4017 non-null   object \n",
      " 32  TMIN             4017 non-null   int64  \n",
      " 33  TMIN_ATTRIBUTES  4017 non-null   object \n",
      " 34  TSUN             6 non-null      float64\n",
      " 35  TSUN_ATTRIBUTES  6 non-null      object \n",
      " 36  WDF1             0 non-null      float64\n",
      " 37  WDF1_ATTRIBUTES  0 non-null      float64\n",
      " 38  WDF2             4017 non-null   int64  \n",
      " 39  WDF2_ATTRIBUTES  4017 non-null   object \n",
      " 40  WDF5             4008 non-null   float64\n",
      " 41  WDF5_ATTRIBUTES  4008 non-null   object \n",
      " 42  WDFG             0 non-null      float64\n",
      " 43  WDFG_ATTRIBUTES  0 non-null      float64\n",
      " 44  WESD             2191 non-null   float64\n",
      " 45  WESD_ATTRIBUTES  2191 non-null   object \n",
      " 46  WSF1             0 non-null      float64\n",
      " 47  WSF1_ATTRIBUTES  0 non-null      float64\n",
      " 48  WSF2             4017 non-null   float64\n",
      " 49  WSF2_ATTRIBUTES  4017 non-null   object \n",
      " 50  WSF5             4008 non-null   float64\n",
      " 51  WSF5_ATTRIBUTES  4008 non-null   object \n",
      " 52  WSFG             0 non-null      float64\n",
      " 53  WSFG_ATTRIBUTES  0 non-null      float64\n",
      " 54  WT01             1767 non-null   float64\n",
      " 55  WT01_ATTRIBUTES  1767 non-null   object \n",
      " 56  WT02             221 non-null    float64\n",
      " 57  WT02_ATTRIBUTES  221 non-null    object \n",
      " 58  WT03             224 non-null    float64\n",
      " 59  WT03_ATTRIBUTES  224 non-null    object \n",
      " 60  WT04             117 non-null    float64\n",
      " 61  WT04_ATTRIBUTES  117 non-null    object \n",
      " 62  WT05             360 non-null    float64\n",
      " 63  WT05_ATTRIBUTES  360 non-null    object \n",
      " 64  WT06             25 non-null     float64\n",
      " 65  WT06_ATTRIBUTES  25 non-null     object \n",
      " 66  WT07             79 non-null     float64\n",
      " 67  WT07_ATTRIBUTES  79 non-null     object \n",
      " 68  WT08             404 non-null    float64\n",
      " 69  WT08_ATTRIBUTES  404 non-null    object \n",
      " 70  WT09             69 non-null     float64\n",
      " 71  WT09_ATTRIBUTES  69 non-null     object \n",
      " 72  WT10             2 non-null      float64\n",
      " 73  WT10_ATTRIBUTES  2 non-null      object \n",
      " 74  WT11             1 non-null      float64\n",
      " 75  WT11_ATTRIBUTES  1 non-null      object \n",
      " 76  WT13             1175 non-null   float64\n",
      " 77  WT13_ATTRIBUTES  1175 non-null   object \n",
      " 78  WT14             575 non-null    float64\n",
      " 79  WT14_ATTRIBUTES  575 non-null    object \n",
      " 80  WT15             6 non-null      float64\n",
      " 81  WT15_ATTRIBUTES  6 non-null      object \n",
      " 82  WT16             1326 non-null   float64\n",
      " 83  WT16_ATTRIBUTES  1326 non-null   object \n",
      " 84  WT17             12 non-null     float64\n",
      " 85  WT17_ATTRIBUTES  12 non-null     object \n",
      " 86  WT18             345 non-null    float64\n",
      " 87  WT18_ATTRIBUTES  345 non-null    object \n",
      " 88  WT19             4 non-null      float64\n",
      " 89  WT19_ATTRIBUTES  4 non-null      object \n",
      " 90  WT21             18 non-null     float64\n",
      " 91  WT21_ATTRIBUTES  18 non-null     object \n",
      " 92  WT22             32 non-null     float64\n",
      " 93  WT22_ATTRIBUTES  32 non-null     object \n",
      " 94  WV01             0 non-null      float64\n",
      " 95  WV01_ATTRIBUTES  0 non-null      float64\n",
      " 96  WV03             0 non-null      float64\n",
      " 97  WV03_ATTRIBUTES  0 non-null      float64\n",
      " 98  WV20             2 non-null      float64\n",
      " 99  WV20_ATTRIBUTES  2 non-null      object \n",
      "dtypes: float64(57), int64(4), object(39)\n",
      "memory usage: 3.1+ MB\n"
     ]
    }
   ],
   "source": [
    "weather.info()"
   ]
  },
  {
   "cell_type": "code",
   "execution_count": 260,
   "metadata": {},
   "outputs": [],
   "source": [
    "weather['DATE'] = pd.to_datetime(weather['DATE'])\n",
    "weather_up = weather[(weather['DATE'].dt.year >= 2005) & (weather['DATE'].dt.year < 2016)]\n"
   ]
  },
  {
   "cell_type": "code",
   "execution_count": 261,
   "metadata": {},
   "outputs": [],
   "source": [
    "weather_up.set_index('DATE', inplace = True)"
   ]
  },
  {
   "cell_type": "markdown",
   "metadata": {},
   "source": [
    "## Wind conditions"
   ]
  },
  {
   "cell_type": "code",
   "execution_count": 262,
   "metadata": {},
   "outputs": [
    {
     "data": {
      "text/html": [
       "<div>\n",
       "<style scoped>\n",
       "    .dataframe tbody tr th:only-of-type {\n",
       "        vertical-align: middle;\n",
       "    }\n",
       "\n",
       "    .dataframe tbody tr th {\n",
       "        vertical-align: top;\n",
       "    }\n",
       "\n",
       "    .dataframe thead th {\n",
       "        text-align: right;\n",
       "    }\n",
       "</style>\n",
       "<table border=\"1\" class=\"dataframe\">\n",
       "  <thead>\n",
       "    <tr style=\"text-align: right;\">\n",
       "      <th></th>\n",
       "      <th>AWND</th>\n",
       "      <th>WSF2</th>\n",
       "    </tr>\n",
       "  </thead>\n",
       "  <tbody>\n",
       "    <tr>\n",
       "      <th>count</th>\n",
       "      <td>4017.000000</td>\n",
       "      <td>4017.000000</td>\n",
       "    </tr>\n",
       "    <tr>\n",
       "      <th>mean</th>\n",
       "      <td>8.593707</td>\n",
       "      <td>19.274782</td>\n",
       "    </tr>\n",
       "    <tr>\n",
       "      <th>std</th>\n",
       "      <td>3.364601</td>\n",
       "      <td>5.623866</td>\n",
       "    </tr>\n",
       "    <tr>\n",
       "      <th>min</th>\n",
       "      <td>0.220000</td>\n",
       "      <td>4.900000</td>\n",
       "    </tr>\n",
       "    <tr>\n",
       "      <th>25%</th>\n",
       "      <td>6.260000</td>\n",
       "      <td>15.000000</td>\n",
       "    </tr>\n",
       "    <tr>\n",
       "      <th>50%</th>\n",
       "      <td>8.050000</td>\n",
       "      <td>17.900000</td>\n",
       "    </tr>\n",
       "    <tr>\n",
       "      <th>75%</th>\n",
       "      <td>10.290000</td>\n",
       "      <td>21.900000</td>\n",
       "    </tr>\n",
       "    <tr>\n",
       "      <th>max</th>\n",
       "      <td>26.840000</td>\n",
       "      <td>48.100000</td>\n",
       "    </tr>\n",
       "  </tbody>\n",
       "</table>\n",
       "</div>"
      ],
      "text/plain": [
       "              AWND         WSF2\n",
       "count  4017.000000  4017.000000\n",
       "mean      8.593707    19.274782\n",
       "std       3.364601     5.623866\n",
       "min       0.220000     4.900000\n",
       "25%       6.260000    15.000000\n",
       "50%       8.050000    17.900000\n",
       "75%      10.290000    21.900000\n",
       "max      26.840000    48.100000"
      ]
     },
     "execution_count": 262,
     "metadata": {},
     "output_type": "execute_result"
    }
   ],
   "source": [
    "weather_up[['AWND', 'WSF2']].describe()"
   ]
  },
  {
   "cell_type": "code",
   "execution_count": 263,
   "metadata": {},
   "outputs": [
    {
     "data": {
      "image/png": "[encoded data removed]",
      "text/plain": [
       "<Figure size 432x288 with 1 Axes>"
      ]
     },
     "metadata": {
      "needs_background": "light"
     },
     "output_type": "display_data"
    }
   ],
   "source": [
    "fig, ax = plt.subplots()\n",
    "ax.boxplot([weather_up['AWND'], weather_up['WSF2']])\n",
    "ax.set_xticklabels(['Avg Wind Speed', 'Fastest Wind Speed'])\n",
    "ax.set_ylabel('Wind Speed (mph)');\n"
   ]
  },
  {
   "cell_type": "code",
   "execution_count": 264,
   "metadata": {},
   "outputs": [
    {
     "data": {
      "image/png": "[encoded data removed]",
      "text/plain": [
       "<Figure size 432x288 with 1 Axes>"
      ]
     },
     "metadata": {
      "needs_background": "light"
     },
     "output_type": "display_data"
    }
   ],
   "source": [
    "wind = weather_up[(weather_up['AWND'] <= 15) & (weather_up['WSF2'] <= 35)]\n",
    "fig, ax = plt.subplots()\n",
    "ax.boxplot([wind['AWND'], wind['WSF2']])\n",
    "ax.set_xticklabels(['Avg Wind Speed', 'Fastest Wind Speed'])\n",
    "ax.set_ylabel('Wind Speed (mph)');"
   ]
  },
  {
   "cell_type": "code",
   "execution_count": 265,
   "metadata": {},
   "outputs": [
    {
     "data": {
      "text/html": [
       "<div>\n",
       "<style scoped>\n",
       "    .dataframe tbody tr th:only-of-type {\n",
       "        vertical-align: middle;\n",
       "    }\n",
       "\n",
       "    .dataframe tbody tr th {\n",
       "        vertical-align: top;\n",
       "    }\n",
       "\n",
       "    .dataframe thead th {\n",
       "        text-align: right;\n",
       "    }\n",
       "</style>\n",
       "<table border=\"1\" class=\"dataframe\">\n",
       "  <thead>\n",
       "    <tr style=\"text-align: right;\">\n",
       "      <th></th>\n",
       "      <th>AWND</th>\n",
       "      <th>WSF2</th>\n",
       "    </tr>\n",
       "  </thead>\n",
       "  <tbody>\n",
       "    <tr>\n",
       "      <th>count</th>\n",
       "      <td>3808.000000</td>\n",
       "      <td>3808.000000</td>\n",
       "    </tr>\n",
       "    <tr>\n",
       "      <th>mean</th>\n",
       "      <td>8.123067</td>\n",
       "      <td>18.576917</td>\n",
       "    </tr>\n",
       "    <tr>\n",
       "      <th>std</th>\n",
       "      <td>2.688577</td>\n",
       "      <td>4.740828</td>\n",
       "    </tr>\n",
       "    <tr>\n",
       "      <th>min</th>\n",
       "      <td>0.220000</td>\n",
       "      <td>4.900000</td>\n",
       "    </tr>\n",
       "    <tr>\n",
       "      <th>25%</th>\n",
       "      <td>6.260000</td>\n",
       "      <td>15.000000</td>\n",
       "    </tr>\n",
       "    <tr>\n",
       "      <th>50%</th>\n",
       "      <td>7.830000</td>\n",
       "      <td>17.900000</td>\n",
       "    </tr>\n",
       "    <tr>\n",
       "      <th>75%</th>\n",
       "      <td>9.840000</td>\n",
       "      <td>21.900000</td>\n",
       "    </tr>\n",
       "    <tr>\n",
       "      <th>max</th>\n",
       "      <td>14.990000</td>\n",
       "      <td>34.900000</td>\n",
       "    </tr>\n",
       "  </tbody>\n",
       "</table>\n",
       "</div>"
      ],
      "text/plain": [
       "              AWND         WSF2\n",
       "count  3808.000000  3808.000000\n",
       "mean      8.123067    18.576917\n",
       "std       2.688577     4.740828\n",
       "min       0.220000     4.900000\n",
       "25%       6.260000    15.000000\n",
       "50%       7.830000    17.900000\n",
       "75%       9.840000    21.900000\n",
       "max      14.990000    34.900000"
      ]
     },
     "execution_count": 265,
     "metadata": {},
     "output_type": "execute_result"
    }
   ],
   "source": [
    "wind[['AWND', 'WSF2']].describe()"
   ]
  },
  {
   "cell_type": "markdown",
   "metadata": {},
   "source": [
    "## Temperature conditions"
   ]
  },
  {
   "cell_type": "code",
   "execution_count": 266,
   "metadata": {},
   "outputs": [
    {
     "data": {
      "text/html": [
       "<div>\n",
       "<style scoped>\n",
       "    .dataframe tbody tr th:only-of-type {\n",
       "        vertical-align: middle;\n",
       "    }\n",
       "\n",
       "    .dataframe tbody tr th {\n",
       "        vertical-align: top;\n",
       "    }\n",
       "\n",
       "    .dataframe thead th {\n",
       "        text-align: right;\n",
       "    }\n",
       "</style>\n",
       "<table border=\"1\" class=\"dataframe\">\n",
       "  <thead>\n",
       "    <tr style=\"text-align: right;\">\n",
       "      <th></th>\n",
       "      <th>TMIN</th>\n",
       "      <th>TAVG</th>\n",
       "      <th>TMAX</th>\n",
       "    </tr>\n",
       "  </thead>\n",
       "  <tbody>\n",
       "    <tr>\n",
       "      <th>count</th>\n",
       "      <td>4017.000000</td>\n",
       "      <td>4017.000000</td>\n",
       "      <td>4017.000000</td>\n",
       "    </tr>\n",
       "    <tr>\n",
       "      <th>mean</th>\n",
       "      <td>43.484441</td>\n",
       "      <td>50.640030</td>\n",
       "      <td>61.268608</td>\n",
       "    </tr>\n",
       "    <tr>\n",
       "      <th>std</th>\n",
       "      <td>17.020298</td>\n",
       "      <td>14.611124</td>\n",
       "      <td>18.199517</td>\n",
       "    </tr>\n",
       "    <tr>\n",
       "      <th>min</th>\n",
       "      <td>-5.000000</td>\n",
       "      <td>6.000000</td>\n",
       "      <td>15.000000</td>\n",
       "    </tr>\n",
       "    <tr>\n",
       "      <th>25%</th>\n",
       "      <td>30.000000</td>\n",
       "      <td>40.000000</td>\n",
       "      <td>47.000000</td>\n",
       "    </tr>\n",
       "    <tr>\n",
       "      <th>50%</th>\n",
       "      <td>44.000000</td>\n",
       "      <td>51.000000</td>\n",
       "      <td>62.000000</td>\n",
       "    </tr>\n",
       "    <tr>\n",
       "      <th>75%</th>\n",
       "      <td>58.000000</td>\n",
       "      <td>63.000000</td>\n",
       "      <td>77.000000</td>\n",
       "    </tr>\n",
       "    <tr>\n",
       "      <th>max</th>\n",
       "      <td>77.000000</td>\n",
       "      <td>86.000000</td>\n",
       "      <td>102.000000</td>\n",
       "    </tr>\n",
       "  </tbody>\n",
       "</table>\n",
       "</div>"
      ],
      "text/plain": [
       "              TMIN         TAVG         TMAX\n",
       "count  4017.000000  4017.000000  4017.000000\n",
       "mean     43.484441    50.640030    61.268608\n",
       "std      17.020298    14.611124    18.199517\n",
       "min      -5.000000     6.000000    15.000000\n",
       "25%      30.000000    40.000000    47.000000\n",
       "50%      44.000000    51.000000    62.000000\n",
       "75%      58.000000    63.000000    77.000000\n",
       "max      77.000000    86.000000   102.000000"
      ]
     },
     "execution_count": 266,
     "metadata": {},
     "output_type": "execute_result"
    }
   ],
   "source": [
    "weather_up[['TMIN', 'TAVG', 'TMAX']].describe()"
   ]
  },
  {
   "cell_type": "code",
   "execution_count": 267,
   "metadata": {},
   "outputs": [
    {
     "data": {
      "image/png": "[encoded data removed]",
      "text/plain": [
       "<Figure size 432x288 with 1 Axes>"
      ]
     },
     "metadata": {
      "needs_background": "light"
     },
     "output_type": "display_data"
    }
   ],
   "source": [
    "fig, ax = plt.subplots()\n",
    "ax.boxplot([weather_up['TMIN'], weather_up['TAVG'], weather_up['TMAX']])\n",
    "ax.set_xticklabels(['Min Temp', 'Avg Temp', 'Max Temp'])\n",
    "ax.set_ylabel('Temp (F)');"
   ]
  },
  {
   "cell_type": "code",
   "execution_count": 268,
   "metadata": {},
   "outputs": [
    {
     "data": {
      "image/png": "[encoded data removed]",
      "text/plain": [
       "<Figure size 432x288 with 1 Axes>"
      ]
     },
     "metadata": {
      "needs_background": "light"
     },
     "output_type": "display_data"
    }
   ],
   "source": [
    "weather_up['TDIFF'] = weather_up['TMAX'] - weather_up['TMIN']\n",
    "weather_up.TDIFF.plot(kind = 'hist', bins = 20);"
   ]
  },
  {
   "cell_type": "code",
   "execution_count": 269,
   "metadata": {},
   "outputs": [
    {
     "data": {
      "text/html": [
       "<div>\n",
       "<style scoped>\n",
       "    .dataframe tbody tr th:only-of-type {\n",
       "        vertical-align: middle;\n",
       "    }\n",
       "\n",
       "    .dataframe tbody tr th {\n",
       "        vertical-align: top;\n",
       "    }\n",
       "\n",
       "    .dataframe thead th {\n",
       "        text-align: right;\n",
       "    }\n",
       "</style>\n",
       "<table border=\"1\" class=\"dataframe\">\n",
       "  <thead>\n",
       "    <tr style=\"text-align: right;\">\n",
       "      <th></th>\n",
       "      <th>TMIN</th>\n",
       "      <th>TAVG</th>\n",
       "      <th>TMAX</th>\n",
       "    </tr>\n",
       "    <tr>\n",
       "      <th>DATE</th>\n",
       "      <th></th>\n",
       "      <th></th>\n",
       "      <th></th>\n",
       "    </tr>\n",
       "  </thead>\n",
       "  <tbody>\n",
       "    <tr>\n",
       "      <th>2015-12-31</th>\n",
       "      <td>35</td>\n",
       "      <td>39</td>\n",
       "      <td>50</td>\n",
       "    </tr>\n",
       "    <tr>\n",
       "      <th>2015-12-30</th>\n",
       "      <td>27</td>\n",
       "      <td>30</td>\n",
       "      <td>35</td>\n",
       "    </tr>\n",
       "    <tr>\n",
       "      <th>2015-12-29</th>\n",
       "      <td>28</td>\n",
       "      <td>33</td>\n",
       "      <td>40</td>\n",
       "    </tr>\n",
       "    <tr>\n",
       "      <th>2015-12-28</th>\n",
       "      <td>30</td>\n",
       "      <td>40</td>\n",
       "      <td>44</td>\n",
       "    </tr>\n",
       "    <tr>\n",
       "      <th>2015-12-27</th>\n",
       "      <td>44</td>\n",
       "      <td>51</td>\n",
       "      <td>61</td>\n",
       "    </tr>\n",
       "  </tbody>\n",
       "</table>\n",
       "</div>"
      ],
      "text/plain": [
       "            TMIN  TAVG  TMAX\n",
       "DATE                        \n",
       "2015-12-31    35    39    50\n",
       "2015-12-30    27    30    35\n",
       "2015-12-29    28    33    40\n",
       "2015-12-28    30    40    44\n",
       "2015-12-27    44    51    61"
      ]
     },
     "execution_count": 269,
     "metadata": {},
     "output_type": "execute_result"
    }
   ],
   "source": [
    "temp = weather_up[['TMIN', 'TAVG', 'TMAX']]\n",
    "temp.head()"
   ]
  },
  {
   "cell_type": "code",
   "execution_count": 270,
   "metadata": {},
   "outputs": [
    {
     "data": {
      "text/plain": [
       "(TMIN    174677\n",
       " TAVG    203421\n",
       " TMAX    246116\n",
       " dtype: int64,\n",
       " DATE\n",
       " 2015-12-31    124\n",
       " 2015-12-30     92\n",
       " 2015-12-29    101\n",
       " 2015-12-28    114\n",
       " 2015-12-27    156\n",
       " dtype: int64)"
      ]
     },
     "execution_count": 270,
     "metadata": {},
     "output_type": "execute_result"
    }
   ],
   "source": [
    "temp.sum(), temp.sum(axis = 'columns').head()"
   ]
  },
  {
   "cell_type": "markdown",
   "metadata": {},
   "source": [
    "## Other weather conditions"
   ]
  },
  {
   "cell_type": "code",
   "execution_count": 271,
   "metadata": {},
   "outputs": [
    {
     "name": "stderr",
     "output_type": "stream",
     "text": [
      "C:\\Users\\RoccoJustice\\AppData\\Local\\Temp\\ipykernel_10980\\3781292730.py:2: FutureWarning: Dropping of nuisance columns in DataFrame reductions (with 'numeric_only=None') is deprecated; in a future version this will raise TypeError.  Select only valid columns before calling the reduction.\n",
      "  weather_up['bad_conditions'] = otherw.sum(axis = 'columns')\n"
     ]
    },
    {
     "data": {
      "text/plain": [
       "<AxesSubplot:ylabel='Frequency'>"
      ]
     },
     "execution_count": 271,
     "metadata": {},
     "output_type": "execute_result"
    },
    {
     "data": {
      "image/png": "[encoded data removed]",
      "text/plain": [
       "<Figure size 432x288 with 1 Axes>"
      ]
     },
     "metadata": {
      "needs_background": "light"
     },
     "output_type": "display_data"
    }
   ],
   "source": [
    "otherw = weather_up.loc[:, 'WT01': 'WT22']\n",
    "weather_up['bad_conditions'] = otherw.sum(axis = 'columns')\n",
    "weather_up['bad_conditions'] = weather_up.bad_conditions.fillna(0).astype('int')\n",
    "weather_up.bad_conditions.plot(kind = 'hist')"
   ]
  },
  {
   "cell_type": "code",
   "execution_count": 272,
   "metadata": {},
   "outputs": [
    {
     "data": {
      "text/plain": [
       "0    1749\n",
       "1     613\n",
       "2     367\n",
       "3     380\n",
       "4     476\n",
       "5     282\n",
       "6     101\n",
       "7      41\n",
       "8       4\n",
       "9       4\n",
       "Name: bad_conditions, dtype: int64"
      ]
     },
     "execution_count": 272,
     "metadata": {},
     "output_type": "execute_result"
    }
   ],
   "source": [
    "weather_up.bad_conditions.value_counts().sort_index()"
   ]
  },
  {
   "cell_type": "code",
   "execution_count": 273,
   "metadata": {},
   "outputs": [
    {
     "data": {
      "text/plain": [
       "bad      1836\n",
       "good     1749\n",
       "worse     432\n",
       "Name: rating, dtype: int64"
      ]
     },
     "execution_count": 273,
     "metadata": {},
     "output_type": "execute_result"
    }
   ],
   "source": [
    "mapping = {0:'good', 1:'bad', 2:'bad',  3:'bad', 4:'bad', 5: 'worse', 6: 'worse', 7: 'worse', 8: 'worse', 9: 'worse'}\n",
    "weather_up['rating'] = weather_up.bad_conditions.map(mapping)\n",
    "weather_up['rating'].value_counts()"
   ]
  },
  {
   "cell_type": "code",
   "execution_count": 274,
   "metadata": {},
   "outputs": [
    {
     "data": {
      "text/plain": [
       "DATE\n",
       "2015-12-31     bad\n",
       "2015-12-30     bad\n",
       "2015-12-29     bad\n",
       "2015-12-28    good\n",
       "2015-12-27     bad\n",
       "Name: rating, dtype: category\n",
       "Categories (3, object): ['good' < 'bad' < 'worse']"
      ]
     },
     "execution_count": 274,
     "metadata": {},
     "output_type": "execute_result"
    }
   ],
   "source": [
    "cats = ['good', 'bad', 'worse']\n",
    "weather_up['rating'] = pd.Categorical(weather_up['rating'], categories = cats, ordered = True)\n",
    "weather_up['rating'].head()\n"
   ]
  },
  {
   "cell_type": "markdown",
   "metadata": {},
   "source": [
    "# Merging both datasets"
   ]
  },
  {
   "cell_type": "code",
   "execution_count": 275,
   "metadata": {},
   "outputs": [],
   "source": [
    "ri.reset_index(inplace = True)\n",
    "weather_up.reset_index(inplace = True)"
   ]
  },
  {
   "cell_type": "code",
   "execution_count": 281,
   "metadata": {},
   "outputs": [
    {
     "data": {
      "text/plain": [
       "(        DATE rating\n",
       " 0 2015-12-31    bad\n",
       " 1 2015-12-30    bad\n",
       " 2 2015-12-29    bad\n",
       " 3 2015-12-28   good\n",
       " 4 2015-12-27    bad,\n",
       " DATE      datetime64[ns]\n",
       " rating          category\n",
       " dtype: object)"
      ]
     },
     "execution_count": 281,
     "metadata": {},
     "output_type": "execute_result"
    }
   ],
   "source": [
    "weather_rating = weather_up[['DATE', 'rating']]\n",
    "weather_rating.head(), weather_rating.dtypes"
   ]
  },
  {
   "cell_type": "code",
   "execution_count": 286,
   "metadata": {},
   "outputs": [
    {
     "data": {
      "text/plain": [
       "(0   2005-11-22 11:15:00\n",
       " 1   2005-10-01 12:20:00\n",
       " 2   2005-10-01 12:30:00\n",
       " 3   2005-10-01 12:50:00\n",
       " 4   2005-10-01 13:10:00\n",
       " Name: stop_datetime, dtype: datetime64[ns],\n",
       " dtype('O'))"
      ]
     },
     "execution_count": 286,
     "metadata": {},
     "output_type": "execute_result"
    }
   ],
   "source": [
    "ri.stop_datetime.head(), ri.date.dtype"
   ]
  },
  {
   "cell_type": "code",
   "execution_count": 285,
   "metadata": {},
   "outputs": [
    {
     "data": {
      "text/plain": [
       "Index(['stop_datetime', 'raw_row_number', 'date', 'time', 'zone',\n",
       "       'subject_race', 'subject_sex', 'department_id', 'type', 'arrest_made',\n",
       "       'citation_issued', 'warning_issued', 'outcome', 'contraband_found',\n",
       "       'contraband_drugs', 'contraband_weapons', 'contraband_alcohol',\n",
       "       'contraband_other', 'frisk_performed', 'search_conducted',\n",
       "       'search_basis', 'reason_for_search', 'reason_for_stop', 'vehicle_make',\n",
       "       'vehicle_model', 'frisk'],\n",
       "      dtype='object')"
      ]
     },
     "execution_count": 285,
     "metadata": {},
     "output_type": "execute_result"
    }
   ],
   "source": [
    "ri.columns"
   ]
  },
  {
   "cell_type": "code",
   "execution_count": 287,
   "metadata": {},
   "outputs": [],
   "source": [
    "ri_weather = pd.merge(left=ri, right=weather_rating, left_on='stop_datetime', right_on='DATE', how='left')\n",
    "ri_weather.set_index('stop_datetime', inplace=True)"
   ]
  },
  {
   "cell_type": "code",
   "execution_count": 290,
   "metadata": {},
   "outputs": [
    {
     "data": {
      "text/plain": [
       "0.03504065881419355"
      ]
     },
     "execution_count": 290,
     "metadata": {},
     "output_type": "execute_result"
    }
   ],
   "source": [
    "ri_weather.arrest_made.mean()"
   ]
  },
  {
   "cell_type": "code",
   "execution_count": 291,
   "metadata": {},
   "outputs": [
    {
     "data": {
      "text/plain": [
       "rating\n",
       "good     0.066298\n",
       "bad      0.074550\n",
       "worse    0.072165\n",
       "Name: arrest_made, dtype: float64"
      ]
     },
     "execution_count": 291,
     "metadata": {},
     "output_type": "execute_result"
    }
   ],
   "source": [
    "ri_weather.groupby('rating').arrest_made.mean()"
   ]
  },
  {
   "cell_type": "code",
   "execution_count": 294,
   "metadata": {},
   "outputs": [
    {
     "data": {
      "text/plain": [
       "reason_for_stop                   rating\n",
       "APB                               good      0.000000\n",
       "                                  bad       1.000000\n",
       "                                  worse          NaN\n",
       "Call for Service                  good      0.000000\n",
       "                                  bad       0.000000\n",
       "                                  worse     1.000000\n",
       "Equipment/Inspection Violation    good      0.132353\n",
       "                                  bad       0.156863\n",
       "                                  worse     0.062500\n",
       "Motorist Assist/Courtesy          good           NaN\n",
       "                                  bad            NaN\n",
       "                                  worse          NaN\n",
       "Other Traffic Violation           good      0.105263\n",
       "                                  bad       0.183333\n",
       "                                  worse     0.272727\n",
       "Registration Violation            good      0.076923\n",
       "                                  bad       0.111111\n",
       "                                  worse     0.000000\n",
       "Seatbelt Violation                good      0.200000\n",
       "                                  bad       0.333333\n",
       "                                  worse          NaN\n",
       "Special Detail/Directed Patrol    good      0.000000\n",
       "                                  bad       0.000000\n",
       "                                  worse     0.000000\n",
       "Speeding                          good      0.032864\n",
       "                                  bad       0.024000\n",
       "                                  worse     0.015873\n",
       "Suspicious Person                 good           NaN\n",
       "                                  bad            NaN\n",
       "                                  worse          NaN\n",
       "Violation of City/Town Ordinance  good           NaN\n",
       "                                  bad       0.000000\n",
       "                                  worse          NaN\n",
       "Warrant                           good           NaN\n",
       "                                  bad            NaN\n",
       "                                  worse          NaN\n",
       "Name: arrest_made, dtype: float64"
      ]
     },
     "execution_count": 294,
     "metadata": {},
     "output_type": "execute_result"
    }
   ],
   "source": [
    "arrest_rate = ri_weather.groupby(['reason_for_stop', 'rating']).arrest_made.mean()"
   ]
  },
  {
   "cell_type": "markdown",
   "metadata": {},
   "source": [
    "# Insights\n",
    "\n",
    "1. Speeding is the most common cause for stopping people\n",
    "2. Seems like women are more likely to get stopped by speeding than men\n",
    "3. However, both genders get almost the same proportion of tickets, warnings or arrests when stopped\n",
    "4. Male drivers are searched more than twice as often as female drivers no matter the reason for stop\n",
    "5. Officers made a search only 3.65% of the times whenever they stopped a vehicle/pedestrian\n",
    "6. Looks like officers stop more people during the night\n",
    "7. There has been a constant increase in drug contraband despite the fact that proportion of searches has been decreasing over the time\n",
    "8. Looks like weather doesn't cause more arrests made\n",
    "\n",
    "\n"
   ]
  }
 ],
 "metadata": {
  "interpreter": {
   "hash": "7850bac4bf110afc0ab1d11b6a326027a4a789b7ab9bc73d7bfd80d1c3a3f132"
  },
  "kernelspec": {
   "display_name": "Python 3.9.12 ('venv')",
   "language": "python",
   "name": "python3"
  },
  "language_info": {
   "codemirror_mode": {
    "name": "ipython",
    "version": 3
   },
   "file_extension": ".py",
   "mimetype": "text/x-python",
   "name": "python",
   "nbconvert_exporter": "python",
   "pygments_lexer": "ipython3",
   "version": "3.9.12"
  },
  "orig_nbformat": 4
 },
 "nbformat": 4,
 "nbformat_minor": 2
}
